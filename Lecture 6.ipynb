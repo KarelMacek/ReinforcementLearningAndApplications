{
 "cells": [
  {
   "cell_type": "markdown",
   "metadata": {},
   "source": [
    "# Temporal Difference Methods\n",
    "\n",
    "Combining DP and MC:\n",
    "\n",
    "- Similarly to MC: model not needed, learning from *experience*\n",
    "- Updating the state before reaching the end of the epoch (*bootstrapping*)\n",
    "\n",
    "Variants of TD will be discussed not just during this lecture."
   ]
  },
  {
   "cell_type": "code",
   "execution_count": null,
   "metadata": {},
   "outputs": [],
   "source": []
  },
  {
   "cell_type": "markdown",
   "metadata": {},
   "source": [
    "## TD Prediction\n",
    "\n",
    "Given a policy $\\pi$, we want to quantify $v_\\pi(s)$ for all states.\n",
    "\n",
    "Simple every-visit MC calculates:\n",
    "\n",
    "$$\n",
    "V(S_t)\\gets V(S_t)+alpha[G_t-V(S_t)]\n",
    "$$\n",
    "Let's call this *constant-$\\alpha$ MC* - normally $\\alpha=\\frac{1}{N_{S_t}}$ where $N_{S_t}$ is the number of updates of $S_t$.\n",
    "\n",
    "Monte Carlo has to know $G_t$ that is known in the end of the episode.\n",
    "\n",
    "TD approach leverages bootstrapping instead:\n",
    "\n",
    "$V(S_t)\\gets V(S_t) + \\alpha[R_{t+1}+\\gamma V(S_{t+1})-V(S_t)]$"
   ]
  },
  {
   "cell_type": "code",
   "execution_count": 20,
   "metadata": {},
   "outputs": [],
   "source": [
    "import gym\n",
    "import numpy as np\n",
    "\n",
    "env = gym.make('FrozenLake8x8-v0')\n",
    "V = np.zeros(64)\n",
    "\n",
    "alpha = 0.1\n",
    "gamma = 0.9\n",
    "\n",
    "for i_episode in range(20000):\n",
    "    observation = env.reset()\n",
    "    done = False\n",
    "    while not done:\n",
    "        old_observation = observation\n",
    "        action = env.action_space.sample()\n",
    "        observation, reward, done, info = env.step(action)\n",
    "        V[old_observation]+=alpha*(reward+gamma*V[observation]-V[old_observation])"
   ]
  },
  {
   "cell_type": "code",
   "execution_count": 21,
   "metadata": {},
   "outputs": [],
   "source": [
    "lake = V.reshape(8,8)"
   ]
  },
  {
   "cell_type": "code",
   "execution_count": 22,
   "metadata": {},
   "outputs": [
    {
     "data": {
      "text/plain": [
       "<matplotlib.image.AxesImage at 0x20b2bc4a208>"
      ]
     },
     "execution_count": 22,
     "metadata": {},
     "output_type": "execute_result"
    },
    {
     "data": {
      "image/png": "[encoded data removed]",
      "text/plain": [
       "<Figure size 432x288 with 1 Axes>"
      ]
     },
     "metadata": {},
     "output_type": "display_data"
    }
   ],
   "source": [
    "% matplotlib inline\n",
    "import matplotlib.pyplot as plt\n",
    "plt.imshow(lake)"
   ]
  },
  {
   "cell_type": "markdown",
   "metadata": {},
   "source": [
    "TD prediction can be easily integrated with Policy Improvement."
   ]
  },
  {
   "cell_type": "markdown",
   "metadata": {},
   "source": [
    "## Advantages of TD Prediction Methods\n",
    "\n",
    "- Model not needed\n",
    "- Fully online (also continuous, not only episodic tasks)\n",
    "- Convergence? Yes.\n",
    "\n",
    "Better than MC - hard to say in general; in practice TD is more succesful."
   ]
  },
  {
   "cell_type": "code",
   "execution_count": null,
   "metadata": {},
   "outputs": [],
   "source": []
  },
  {
   "cell_type": "markdown",
   "metadata": {},
   "source": [
    "## Optimality of TD(0) \n",
    "\n",
    "Let's have finite amount of experience, e.g. 10 episodes.\n",
    "\n",
    "Basic incremental approach: to keep updating based on the experience until convergence achieved.\n",
    "\n",
    "We can apply:\n",
    "\n",
    "- constant-$\\alpha$ MC\n",
    "- TD(0)\n",
    "\n",
    "Who will be better?\n",
    "\n",
    "Constant-$\\alpha$ MC: *optimal* in terms of minimization of mean-squared-error from the *actual* returns $G$ in the training set.\n",
    "\n",
    "TD faster. Why?\n",
    "\n",
    "Better estimates used: not just *actual*, but *certainty-equivalence estimate* -  the models are coherent."
   ]
  },
  {
   "cell_type": "code",
   "execution_count": null,
   "metadata": {},
   "outputs": [],
   "source": []
  },
  {
   "cell_type": "markdown",
   "metadata": {},
   "source": [
    "## Sarsa: On-policy TD Control\n"
   ]
  },
  {
   "cell_type": "markdown",
   "metadata": {},
   "source": [
    "We will try to use Generalized Policy Improvement.\n",
    "\n",
    "Similarly to Monte Carlo Methods, we distinguish:\n",
    "* on-policy\n",
    "* off-policy\n",
    "\n",
    "We want to estimate $q_\\pi(s,a)$. TD rule for this is:\n",
    "\n",
    "$$\n",
    "Q(S_t,A_t)\\gets Q(S_t,A_t) + \\alpha[R_{t+1}+\\gamma Q(S_{t+1},A_{t+1})-Q(S_t,A_t)]\n",
    "$$\n",
    "\n",
    "Thus, we consider for one update the tuple $(S_t,A_t,R_{t+1},S_{t+1},A_{t+1})$ which gave the name to this approach: *Sarsa*."
   ]
  },
  {
   "cell_type": "code",
   "execution_count": 68,
   "metadata": {},
   "outputs": [],
   "source": [
    "Q = np.zeros((64,4))+0.5\n",
    "\n",
    "alpha = 0.1\n",
    "gamma = 0.9\n",
    "epsilon = 0.1\n",
    "\n",
    "for i_episode in range(20000):\n",
    "    observation = env.reset()\n",
    "    action = None\n",
    "    done = False\n",
    "    while not done:\n",
    "        old_observation = observation\n",
    "        old_action = action\n",
    "        if np.random.random()<epsilon:\n",
    "            action = env.action_space.sample()\n",
    "        else:\n",
    "            action = Q[observation,:].argmax()\n",
    "        observation, reward, done, info = env.step(action)\n",
    "        \n",
    "        if action is not None:\n",
    "            Q[old_observation,old_action]+=alpha*(reward+gamma*Q[observation,action]-Q[old_observation,old_action])"
   ]
  },
  {
   "cell_type": "code",
   "execution_count": 69,
   "metadata": {},
   "outputs": [
    {
     "data": {
      "text/plain": [
       "0.31138428377290606"
      ]
     },
     "execution_count": 69,
     "metadata": {},
     "output_type": "execute_result"
    }
   ],
   "source": [
    "Q.mean()"
   ]
  },
  {
   "cell_type": "code",
   "execution_count": 70,
   "metadata": {},
   "outputs": [
    {
     "data": {
      "text/plain": [
       "<matplotlib.image.AxesImage at 0x20b2c43d2b0>"
      ]
     },
     "execution_count": 70,
     "metadata": {},
     "output_type": "execute_result"
    },
    {
     "data": {
      "image/png": "[encoded data removed]",
      "text/plain": [
       "<Figure size 432x288 with 1 Axes>"
      ]
     },
     "metadata": {},
     "output_type": "display_data"
    }
   ],
   "source": [
    "plt.imshow(Q[:,0].reshape(8,8))"
   ]
  },
  {
   "cell_type": "code",
   "execution_count": 74,
   "metadata": {},
   "outputs": [
    {
     "data": {
      "text/html": [
       "<div>\n",
       "<style scoped>\n",
       "    .dataframe tbody tr th:only-of-type {\n",
       "        vertical-align: middle;\n",
       "    }\n",
       "\n",
       "    .dataframe tbody tr th {\n",
       "        vertical-align: top;\n",
       "    }\n",
       "\n",
       "    .dataframe thead th {\n",
       "        text-align: right;\n",
       "    }\n",
       "</style>\n",
       "<table border=\"1\" class=\"dataframe\">\n",
       "  <thead>\n",
       "    <tr style=\"text-align: right;\">\n",
       "      <th></th>\n",
       "      <th>0</th>\n",
       "      <th>1</th>\n",
       "      <th>2</th>\n",
       "      <th>3</th>\n",
       "      <th>4</th>\n",
       "      <th>5</th>\n",
       "      <th>6</th>\n",
       "      <th>7</th>\n",
       "    </tr>\n",
       "  </thead>\n",
       "  <tbody>\n",
       "    <tr>\n",
       "      <th>0</th>\n",
       "      <td>0.049334</td>\n",
       "      <td>0.058759</td>\n",
       "      <td>0.078009</td>\n",
       "      <td>0.098144</td>\n",
       "      <td>0.120582</td>\n",
       "      <td>0.122512</td>\n",
       "      <td>0.091177</td>\n",
       "      <td>0.082144</td>\n",
       "    </tr>\n",
       "    <tr>\n",
       "      <th>1</th>\n",
       "      <td>0.069193</td>\n",
       "      <td>0.071422</td>\n",
       "      <td>0.096998</td>\n",
       "      <td>0.138479</td>\n",
       "      <td>0.136667</td>\n",
       "      <td>0.158092</td>\n",
       "      <td>0.130157</td>\n",
       "      <td>0.106284</td>\n",
       "    </tr>\n",
       "    <tr>\n",
       "      <th>2</th>\n",
       "      <td>0.128497</td>\n",
       "      <td>0.093309</td>\n",
       "      <td>0.167849</td>\n",
       "      <td>0.500000</td>\n",
       "      <td>0.292791</td>\n",
       "      <td>0.238934</td>\n",
       "      <td>0.176903</td>\n",
       "      <td>0.138140</td>\n",
       "    </tr>\n",
       "    <tr>\n",
       "      <th>3</th>\n",
       "      <td>0.195309</td>\n",
       "      <td>0.189831</td>\n",
       "      <td>0.213566</td>\n",
       "      <td>0.379304</td>\n",
       "      <td>0.328622</td>\n",
       "      <td>0.500000</td>\n",
       "      <td>0.332639</td>\n",
       "      <td>0.283978</td>\n",
       "    </tr>\n",
       "    <tr>\n",
       "      <th>4</th>\n",
       "      <td>0.235763</td>\n",
       "      <td>0.309015</td>\n",
       "      <td>0.404089</td>\n",
       "      <td>0.500000</td>\n",
       "      <td>0.358112</td>\n",
       "      <td>0.376940</td>\n",
       "      <td>0.369413</td>\n",
       "      <td>0.374389</td>\n",
       "    </tr>\n",
       "    <tr>\n",
       "      <th>5</th>\n",
       "      <td>0.303443</td>\n",
       "      <td>0.500000</td>\n",
       "      <td>0.500000</td>\n",
       "      <td>0.465405</td>\n",
       "      <td>0.424035</td>\n",
       "      <td>0.436316</td>\n",
       "      <td>0.500000</td>\n",
       "      <td>0.540942</td>\n",
       "    </tr>\n",
       "    <tr>\n",
       "      <th>6</th>\n",
       "      <td>0.351136</td>\n",
       "      <td>0.500000</td>\n",
       "      <td>0.425915</td>\n",
       "      <td>0.494061</td>\n",
       "      <td>0.500000</td>\n",
       "      <td>0.481284</td>\n",
       "      <td>0.500000</td>\n",
       "      <td>0.837240</td>\n",
       "    </tr>\n",
       "    <tr>\n",
       "      <th>7</th>\n",
       "      <td>0.296909</td>\n",
       "      <td>0.351054</td>\n",
       "      <td>0.384160</td>\n",
       "      <td>0.500000</td>\n",
       "      <td>0.472874</td>\n",
       "      <td>0.470277</td>\n",
       "      <td>0.495000</td>\n",
       "      <td>0.500000</td>\n",
       "    </tr>\n",
       "  </tbody>\n",
       "</table>\n",
       "</div>"
      ],
      "text/plain": [
       "          0         1         2         3         4         5         6  \\\n",
       "0  0.049334  0.058759  0.078009  0.098144  0.120582  0.122512  0.091177   \n",
       "1  0.069193  0.071422  0.096998  0.138479  0.136667  0.158092  0.130157   \n",
       "2  0.128497  0.093309  0.167849  0.500000  0.292791  0.238934  0.176903   \n",
       "3  0.195309  0.189831  0.213566  0.379304  0.328622  0.500000  0.332639   \n",
       "4  0.235763  0.309015  0.404089  0.500000  0.358112  0.376940  0.369413   \n",
       "5  0.303443  0.500000  0.500000  0.465405  0.424035  0.436316  0.500000   \n",
       "6  0.351136  0.500000  0.425915  0.494061  0.500000  0.481284  0.500000   \n",
       "7  0.296909  0.351054  0.384160  0.500000  0.472874  0.470277  0.495000   \n",
       "\n",
       "          7  \n",
       "0  0.082144  \n",
       "1  0.106284  \n",
       "2  0.138140  \n",
       "3  0.283978  \n",
       "4  0.374389  \n",
       "5  0.540942  \n",
       "6  0.837240  \n",
       "7  0.500000  "
      ]
     },
     "execution_count": 74,
     "metadata": {},
     "output_type": "execute_result"
    }
   ],
   "source": [
    "import pandas as pd\n",
    "pd.DataFrame(Q[:,0].reshape(8,8))"
   ]
  },
  {
   "cell_type": "code",
   "execution_count": 71,
   "metadata": {},
   "outputs": [
    {
     "data": {
      "text/plain": [
       "<matplotlib.image.AxesImage at 0x20b2c4970b8>"
      ]
     },
     "execution_count": 71,
     "metadata": {},
     "output_type": "execute_result"
    },
    {
     "data": {
      "image/png": "[encoded data removed]",
      "text/plain": [
       "<Figure size 432x288 with 1 Axes>"
      ]
     },
     "metadata": {},
     "output_type": "display_data"
    }
   ],
   "source": [
    "plt.imshow(Q[:,1].reshape(8,8))"
   ]
  },
  {
   "cell_type": "code",
   "execution_count": 72,
   "metadata": {},
   "outputs": [
    {
     "data": {
      "text/plain": [
       "<matplotlib.image.AxesImage at 0x20b2c4e6e80>"
      ]
     },
     "execution_count": 72,
     "metadata": {},
     "output_type": "execute_result"
    },
    {
     "data": {
      "image/png": "[encoded data removed]",
      "text/plain": [
       "<Figure size 432x288 with 1 Axes>"
      ]
     },
     "metadata": {},
     "output_type": "display_data"
    }
   ],
   "source": [
    "plt.imshow(Q[:,2].reshape(8,8))"
   ]
  },
  {
   "cell_type": "code",
   "execution_count": 73,
   "metadata": {},
   "outputs": [
    {
     "data": {
      "text/plain": [
       "<matplotlib.image.AxesImage at 0x20b2c541cc0>"
      ]
     },
     "execution_count": 73,
     "metadata": {},
     "output_type": "execute_result"
    },
    {
     "data": {
      "image/png": "[encoded data removed]",
      "text/plain": [
       "<Figure size 432x288 with 1 Axes>"
      ]
     },
     "metadata": {},
     "output_type": "display_data"
    }
   ],
   "source": [
    "plt.imshow(Q[:,3].reshape(8,8))"
   ]
  },
  {
   "cell_type": "markdown",
   "metadata": {},
   "source": [
    "Sarsa *converges* with probability 1 to an optimal policy as long as \n",
    "\n",
    "- all state-action pairs are visited an infinite number of times \n",
    "- and the policy in limit to the greedy policy (can be assured e.g. by $\\epsilon=1/t$)"
   ]
  },
  {
   "cell_type": "markdown",
   "metadata": {},
   "source": [
    "## Q-learning: Off-policy TD Control\n",
    "\n",
    "As we know, off-policy means that we distinguish target and behavior policy.\n",
    "\n",
    "The update is the following:\n",
    "\n",
    "$$\n",
    "Q(S_t,A_t)\\gets Q(S_t,A_t)  + \\alpha [R_{t+1}+\\gamma \\max_a Q(S_{t+1},a)-Q(S_t,A_t)]\n",
    "$$\n",
    "\n",
    "where the behavior is driven by a policy that can be derived from $Q$, e.g. $\\epsilon$-greedy."
   ]
  },
  {
   "cell_type": "code",
   "execution_count": 1,
   "metadata": {},
   "outputs": [
    {
     "name": "stdout",
     "output_type": "stream",
     "text": [
      "Object `LAKE` not found.\n"
     ]
    }
   ],
   "source": [
    "FROZEN LAKE?"
   ]
  },
  {
   "cell_type": "code",
   "execution_count": null,
   "metadata": {},
   "outputs": [],
   "source": [
    "FROZEN LAKE"
   ]
  },
  {
   "cell_type": "code",
   "execution_count": null,
   "metadata": {},
   "outputs": [],
   "source": []
  },
  {
   "cell_type": "markdown",
   "metadata": {},
   "source": [
    "## Expected Sarsa"
   ]
  },
  {
   "cell_type": "markdown",
   "metadata": {},
   "source": [
    "$$\n",
    "Q(S_t,A_t)\\gets Q(S_t,A_t)  + \\alpha [R_{t+1}+\\gamma \\mathbb{E}_{\\pi} (Q(S_{t+1},A_{t+1})|S_t)-Q(S_t,A_t)]\n",
    "$$\n",
    "\n",
    "$$\n",
    "\\gets Q(S_t,A_t) + \\alpha [R_{t+1} + \\gamma\\sum_a \\pi(a|S_{t+1})Q(S_{t+1,a})-Q(S_t,A_t)]\n",
    "$$\n",
    "\n",
    "It eliminates the variance due to random selection of $A_{t+1}$ in Sarsa.\n",
    "\n",
    "Expected Sarsa can be both on-policy and off-policy.\n",
    "\n",
    "What if target $\\pi$ cannot be randomized, but is fully greedy."
   ]
  },
  {
   "cell_type": "markdown",
   "metadata": {},
   "source": [
    "## Maximization Bias and Double Learning\n",
    "\n",
    "If $q(s,a)$ are all zeros, but the reward is random then, because of randomness: we will get one value as positive and it will be considered as maximum.\n",
    "\n",
    "Maximization bias:\n",
    "\n",
    "* If we use maximum of estimates as maximum of true values.\n",
    "\n",
    "Trick: double learning - we distinuish $Q_1$ and $Q_2$ and we alter them randomly:\n",
    "\n",
    "$$\n",
    "Q_1(S_t,A_t)\\gets Q(S_t,A_t)  + \\alpha [R_{t+1}+\\gamma Q_2(\\arg\\max_a Q_1(S_{t+1},a))-Q(S_t,A_t)]\n",
    "$$"
   ]
  },
  {
   "cell_type": "code",
   "execution_count": null,
   "metadata": {},
   "outputs": [],
   "source": []
  },
  {
   "cell_type": "markdown",
   "metadata": {},
   "source": [
    "## Games, Afterstates, and Other Special Cases"
   ]
  },
  {
   "cell_type": "markdown",
   "metadata": {},
   "source": [
    "After state = situation in environment immediately after an action is taken.\n",
    "\n",
    "In games, we know how the board will look like after our action.\n",
    "\n",
    "There are many action-state pairs that lead to the same afterstate. From value perspective, they are the same!\n",
    "\n",
    "Similar setup - in other deterministic and structured problems:\n",
    "\n",
    "- Queue in IT infrastructure\n",
    "- Deletion of a file"
   ]
  },
  {
   "cell_type": "code",
   "execution_count": null,
   "metadata": {},
   "outputs": [],
   "source": []
  },
  {
   "cell_type": "markdown",
   "metadata": {},
   "source": [
    "## Summary\n",
    "\n",
    "Benefits:\n",
    "\n",
    "* Online\n",
    "* Model free\n",
    "\n",
    "We learned:\n",
    "\n",
    "* Sarsa\n",
    "* Q-learning\n",
    "* Expected Sarsa\n",
    "\n",
    "Our TD is:\n",
    "\n",
    "* One-step = we can enhance to multi-step\n",
    "* Tabular = we can use approximations for $Q$\n",
    "* Model-free = we can do TD and benefit from models\n",
    "\n",
    "Note: TD without actions can be helpful in some dynamic systems."
   ]
  },
  {
   "cell_type": "markdown",
   "metadata": {},
   "source": [
    "## Homework\n",
    "\n",
    "Obligatory:\n",
    "\n",
    "* Implement Q learning and Expected Sarsa for Frozen Lake.\n",
    "\n",
    "Optional:\n",
    "\n",
    "* Test Sarsa, Q learning, and Expected Sarsa on another environment."
   ]
  },
  {
   "cell_type": "code",
   "execution_count": null,
   "metadata": {},
   "outputs": [],
   "source": []
  }
 ],
 "metadata": {
  "kernelspec": {
   "display_name": "Python 3",
   "language": "python",
   "name": "python3"
  },
  "language_info": {
   "codemirror_mode": {
    "name": "ipython",
    "version": 3
   },
   "file_extension": ".py",
   "mimetype": "text/x-python",
   "name": "python",
   "nbconvert_exporter": "python",
   "pygments_lexer": "ipython3",
   "version": "3.6.5"
  }
 },
 "nbformat": 4,
 "nbformat_minor": 2
}
