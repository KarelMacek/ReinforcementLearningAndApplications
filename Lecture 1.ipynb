{
 "cells": [
  {
   "cell_type": "markdown",
   "metadata": {},
   "source": [
    "# Basic Information\n",
    "\n",
    "## Lecturer\n",
    "\n",
    "Mgr. et Mgr. Karel Macek, Ph.D.\n",
    "\n",
    "- Bc. in Mathematical Engineering (FNSPE CTU)\n",
    "- Mgr. in Artificial Intelligence (MFF CU)\n",
    "- Ph.D. in Mathematical Engineering (FNSPE CTU)\n",
    "- Mgr. in Theological Studies (CTF CU)\n",
    "\n",
    ".\n",
    "\n",
    "- Visiting scholar at Universidad de Granada and University of Oxford\n",
    "\n",
    ".\n",
    "- Research Engineer at Honeywell (2008-2017)\n",
    "- Machine Learning Expert at DHL (since 2017)\n",
    "\n",
    "karel.macek[at]dhl.com"
   ]
  },
  {
   "cell_type": "markdown",
   "metadata": {},
   "source": [
    "## Syllabus\n",
    "Introduction to RL\n",
    "\n",
    "- basic elements, terminology\n",
    "- motivational examples\n",
    "\n",
    "Tabular methods\n",
    "- multiarmed bandits\n",
    "- finite Markov decision processes\n",
    "- dynamic programming\n",
    "- Monte Carlo methods\n",
    "- TD methods\n",
    "\n",
    "Approximation\n",
    "- categories of approximation methods\n",
    "- application of neural networks\n",
    "\n",
    "## Evaluation\n",
    "\n",
    "### Credit\n",
    "Credit is given for solving homework, including potential additional homework at the end of the semester. The nature of this requirement excludes the possibility of repeated attempts to get credit, which means that if you do not obtain enough points for homework, there is no other way how to get credit.\n",
    "\n",
    "On each lecture (but the last one), two assignements are given. One is obligatory, important to follow the course. One is optional. For the credit, it is necessary to have 12 points for obligatory homework and 4 points for optional assignemets.\n",
    "\n",
    "### Exam\n",
    "The examination consists of a written and oral part. The written part precedes the oral part, a failure in the written part implies failing the whole exam, so the oral part is skipped in such cases.\n",
    "\n",
    "## Resources\n",
    "\n",
    "- Sutton, Richard S., and Andrew G. Barto. Reinforcement learning: An introduction. Vol. 1. No. 1. Cambridge: MIT Press, 1998.\n",
    "- Busoniu, Lucian, Robert Babuska, and Bart De Schutter. \"A comprehensive survey of multiagent reinforcement learning.\" IEEE Trans. Systems, Man, and Cybernetics, Part C 38.2 (2008): 156-172.\n",
    "\n",
    "## Dates of Lectures\n",
    "\n",
    "- 5.10.\n",
    "- 12.10.\n",
    "- 19.10.\n",
    "- 26.10.\n",
    "- 2.11.\n",
    "- 9.11.\n",
    "- 16.11.\n",
    "- 23.11.\n",
    "- 30.11.\n",
    "- 7.12.\n",
    "- 14.12.\n",
    "- 4.1.\n",
    "- 11.1."
   ]
  },
  {
   "cell_type": "markdown",
   "metadata": {},
   "source": [
    "# Motivation\n",
    "## Forms of Learning\n",
    "### Supervised\n",
    "<img src= \"https://upload.wikimedia.org/wikipedia/commons/e/e2/Parents_and_their_kids_cook_healthy_and_tasty_meals_150321-A-ZT122-110.jpg\" width=\"50%\"/>\n",
    "\n",
    "\n",
    "### Unsupervised\n",
    "<img src=\"https://c.pxhere.com/photos/f8/27/children_sandbox_boy_girl_son_daughter_child_sand-434757.jpg!d\" />\n",
    "\n",
    "### Reinforcement\n",
    "<img src=\"https://cdn.pixabay.com/photo/2015/09/25/23/10/girl-958409_1280.jpg\" width=\"50%\"/>\n",
    "\n",
    "<img src=\"https://cdn-images-1.medium.com/max/1200/1*4u2GtNnMa9xso1WkLh7hVA.png\"/>\n",
    "\n",
    "#### Exploration\n",
    "Actions to gain knowledge about the environment. Exploring good and bad - spending too much time with bad.\n",
    "#### Exploitation\n",
    "Actions to gain reward from the environment. Exploiting partial goods - not reaching the absolute good."
   ]
  },
  {
   "cell_type": "markdown",
   "metadata": {},
   "source": [
    "## Applications of Reinforcement Learning\n",
    "\n",
    "### Robot Control\n",
    "<img src=\"http://pngimg.com/uploads/robot/robot_PNG66.png\" width=\"50%\"/>\n",
    "### Investment Strategies\n",
    "<img src=\"https://cdn.pixabay.com/photo/2016/12/13/22/15/chart-1905225_1280.jpg\" />\n",
    "### Energy Management\n",
    "<img src=\"https://media.defense.gov/2017/Oct/19/2001829713/-1/-1/0/171012-F-IL629-0005.JPG\" />\n",
    "### Games"
   ]
  },
  {
   "cell_type": "code",
   "execution_count": 5,
   "metadata": {},
   "outputs": [
    {
     "data": {
      "text/html": [
       "<iframe width=\"560\" height=\"315\" src=\"https://www.youtube.com/embed/V1eYniJ0Rnk\" frameborder=\"0\" allow=\"autoplay; encrypted-media\" allowfullscreen></iframe>"
      ],
      "text/plain": [
       "<IPython.core.display.HTML object>"
      ]
     },
     "metadata": {},
     "output_type": "display_data"
    }
   ],
   "source": [
    "%%HTML\n",
    "<iframe width=\"560\" height=\"315\" src=\"https://www.youtube.com/embed/V1eYniJ0Rnk\" frameborder=\"0\" allow=\"autoplay; encrypted-media\" allowfullscreen></iframe>"
   ]
  },
  {
   "cell_type": "markdown",
   "metadata": {},
   "source": [
    "### Knapsack\n",
    "<img src=\"https://upload.wikimedia.org/wikipedia/commons/thumb/f/fd/Knapsack.svg/729px-Knapsack.svg.png\" width=\"50%\"/>"
   ]
  },
  {
   "cell_type": "markdown",
   "metadata": {},
   "source": [
    "# Terminology\n",
    "\n",
    "Reiforcement Learning setup is when an agent interacts with an environment and by this interaction updates his information state and gets some reward. The goal of reinforcement learning is to optimize the agent's decision making in the long term.\n",
    "\n",
    "\n",
    "## Markov Decision Process\n",
    "is a tuple $(A,S,p,r,s_0,\\gamma)$ where $A$ is a set of actions, $S$ is a set of states, $p$ is probability of transitions over time $p(s_{t+1}|s_t,a_t)$, $r$ is a reward function $r(a_t,s_t)$, $\\gamma\\in[0,1)$ is a discount factor.\n",
    "\n",
    "- The dynamics is happening over discrete time $t=1,2,\\dots$. Note that $t$ can correspond to physical time (e.g. 5 minutes intervals) but also other types of indexing (e.g. sequencing of activities that can have non-trivial length).\n",
    "- The discount factor may reflect the net present value or/and interest rates. In some applications, the value is taken small (smaller than economics would say) for the sake of convergence.\n",
    "\n",
    "Examples:\n",
    "<table>\n",
    "<tr>\n",
    "<th>Name </th><th> $S$ </th><th> $A$ </th><th> $p$ </th><th> $r$ </th><th> $t$ </th>\n",
    "</tr>\n",
    "<tr>\n",
    "    <td>\n",
    "        Predictive maintenance\n",
    "    </td><td>\n",
    "        Broken or not\n",
    "    </td><td>\n",
    "        Fix it or not     \n",
    "    </td><td>\n",
    "        When fixing, then fixed<br/>\n",
    "        When fixed, then can break \n",
    "    </td><td>\n",
    "        Maintenance cost & inefficiency cost\n",
    "    </td><td>\n",
    "        1 week\n",
    "    </td>\n",
    "    \n",
    "</tr>\n",
    "\n",
    "<tr>\n",
    "    <td>\n",
    "        Room with heater \n",
    "    </td><td>\n",
    "        Indoor & outdoor temperature\n",
    "    </td><td>\n",
    "        Heater on or off     \n",
    "    </td><td>\n",
    "        Indoor-outdoor-heater heat exchange <br/>& random changes (cooking, opening windows, physical activity)     \n",
    "    </td><td>\n",
    "        Heating cost & thermal comfort\n",
    "    </td><td>\n",
    "        15 minutes intervals\n",
    "    </td>\n",
    "    \n",
    "</tr>\n",
    "<tr>\n",
    "    <td>\n",
    "        Travel\n",
    "    </td><td>\n",
    "        Cities\n",
    "    </td><td>\n",
    "        Transport lines\n",
    "    </td><td>\n",
    "         The line brings us somewhere\n",
    "    </td><td>\n",
    "            Bonus for reaching the destination<br/>\n",
    "            Fare (money) & time\n",
    "    </td><td>\n",
    "        Corresponds to one transition\n",
    "    </td>\n",
    "</tr>\n",
    "<tr>\n",
    "    <td>\n",
    "        Investment\n",
    "    </td><td>\n",
    "        Portfolio & prices\n",
    "    </td><td>\n",
    "        Investment actions\n",
    "    </td><td>\n",
    "        Actions change portfolio.\n",
    "        Market changes actions.\n",
    "    </td><td>\n",
    "        Portfolio size (without risking much)\n",
    "    </td><td>\n",
    "        From minutes to days\n",
    "    </td>\n",
    "</tr>\n",
    "<tr>\n",
    "    <td>\n",
    "        Knapsack\n",
    "    </td><td>\n",
    "        Remaining capacity,\n",
    "        remaining items,\n",
    "        value so far\n",
    "    </td><td>\n",
    "        Putting in one of the remaining items (too big items not allowed)\n",
    "    </td><td>\n",
    "        When put it, it's in\n",
    "    </td><td>\n",
    "        Final value of all items that were put in\n",
    "    </td><td>\n",
    "        Just indexing the order of items\n",
    "    </td>\n",
    "</tr>\n",
    "<tr>\n",
    "    <td>\n",
    "        Atari Games\n",
    "    </td><td>\n",
    "        3 recent screen captures\n",
    "    </td><td>\n",
    "        Hitting the arrow keys\n",
    "    </td><td>\n",
    "        As defined by the game\n",
    "    </td><td>\n",
    "        Collecting points in the game\n",
    "    </td><td>\n",
    "        Seconds\n",
    "    </td>\n",
    "</tr>\n",
    "\n",
    "</table>\n",
    "\n",
    "Questions:\n",
    "\n",
    "- If the inflation and interest rate indicate that $\\gamma=0.95$ per year, what $\\gamma$ would you use for a problem with $t$ corresponding to 15-minutes intervals?\n",
    "- Some of the problems don't have infinite horizon. How can we transform (reduce) one problem into another one?\n",
    "- In what of the examples do we know $p$, in what examples it is unkown.\n",
    "- In what examples the transition $p(s_{t+1}|s_t,a_t)$ is stochastic? When it is deterministic?\n",
    "- Sometimes, instead of $p(s_{t+1}|s_{t},a_{t})$ and $r(a_t,s_t)$, the more general notation $p(s_{t+1},r_t|s_t,a_t)$. In what cases this alternative notation is useful?"
   ]
  },
  {
   "cell_type": "markdown",
   "metadata": {},
   "source": [
    "## Policy\n",
    "\n",
    "Policy is a mechanism that makes the decision about the next action $a_t$ based on state $s_t$. We distinuish\n",
    "\n",
    "- deterministic policy which is a mapping $\\pi:S\\to A$; the notation is then $a_t=\\pi(s_t)$ \n",
    "- and stochastic policy which is a mapping $\\pi:S \\times A\\to\\mathbb{R}$ that returns for each $s_t$ a probability distribution over $A$; the notation is then $a_t \\sim \\pi(\\cdot|s_t)$\n",
    "\n",
    "Question:\n",
    "\n",
    "- What is the practical purpose of stochastic policies."
   ]
  },
  {
   "cell_type": "markdown",
   "metadata": {},
   "source": [
    "## History / Trajectory\n",
    "\n",
    "$H_t=(s_0,a_0,s_1,a_1\\dots s_{t})$\n",
    "\n",
    "Questions:\n",
    "\n",
    "- If the whole history $H_t$ is (potentially) important for our current decision making, i.e. not just on $s_t$, how can we construct the policy as a mapping?\n",
    "- If we know some histories can we reconstruct the way of thinking of that agent? How can we reconstruct $r$ based on that data?\n",
    "\n",
    "## Return (AKA Utility)\n",
    "\n",
    "is defined as $R = \\sum_{t=0}^{\\infty} \\gamma^t r(s_t,a_t)$.\n",
    "\n",
    "Questions:\n",
    "\n",
    "- We can write $R(H_\\infty)$. Why?\n",
    "- Since $p$ and $\\pi$ can be probability distributions, $R$ can be considered as random variable. For given $H_\\infty$, is $R(H_\\infty)$ deterministic? In what cases yes? In what cases not?\n",
    "\n",
    "## Optimal Policy\n",
    "\n",
    "is\n",
    "$$\n",
    "\\pi^{*} = \\arg\\max_{\\pi} \\mathbb{E}_{\\pi,p,r}[R]\n",
    "$$\n",
    "\n",
    "Question:\n",
    "\n",
    "- Is expected value always the best choice? When yes? When not?"
   ]
  },
  {
   "cell_type": "markdown",
   "metadata": {},
   "source": [
    "# Multi-Armed Bandits"
   ]
  },
  {
   "cell_type": "markdown",
   "metadata": {
    "collapsed": true
   },
   "source": [
    "<img src=\"https://upload.wikimedia.org/wikipedia/commons/8/82/Las_Vegas_slot_machines.jpg\" />\n",
    "\n",
    "Source: https://upload.wikimedia.org/wikipedia/commons/8/82/Las_Vegas_slot_machines.jpg"
   ]
  },
  {
   "cell_type": "markdown",
   "metadata": {},
   "source": [
    "We have"
   ]
  },
  {
   "cell_type": "code",
   "execution_count": 2,
   "metadata": {
    "collapsed": true
   },
   "outputs": [],
   "source": [
    "import gym"
   ]
  },
  {
   "cell_type": "code",
   "execution_count": 3,
   "metadata": {
    "collapsed": true
   },
   "outputs": [],
   "source": [
    "import gym_bandits"
   ]
  },
  {
   "cell_type": "code",
   "execution_count": 35,
   "metadata": {},
   "outputs": [
    {
     "name": "stderr",
     "output_type": "stream",
     "text": [
      "[2018-09-23 11:45:50,230] Making new env: BanditTenArmedGaussian-v0\n"
     ]
    }
   ],
   "source": [
    "env =  gym.make(\"BanditTenArmedGaussian-v0\") "
   ]
  },
  {
   "cell_type": "code",
   "execution_count": 51,
   "metadata": {},
   "outputs": [
    {
     "data": {
      "text/plain": [
       "Discrete(10)"
      ]
     },
     "execution_count": 51,
     "metadata": {},
     "output_type": "execute_result"
    }
   ],
   "source": [
    "env.action_space"
   ]
  },
  {
   "cell_type": "code",
   "execution_count": 52,
   "metadata": {},
   "outputs": [
    {
     "data": {
      "text/plain": [
       "Discrete(1)"
      ]
     },
     "execution_count": 52,
     "metadata": {},
     "output_type": "execute_result"
    }
   ],
   "source": [
    "env.observation_space"
   ]
  },
  {
   "cell_type": "markdown",
   "metadata": {},
   "source": [
    "In the other words, we have only one state $s\\in S$. \n",
    "\n",
    "**Question**: Can we change the state by taking actions?\n",
    "\n",
    "Some notes on multi-armed bandit problem (source: <a href=\"https://en.wikipedia.org/wiki/Multi-armed_bandit#Empirical_motivation\">wikipedia</a>):\n",
    "\n",
    "- Applications e.g. in clinical trials. Each patient is an experiment, the arms are alternative treatments\n",
    "- Well known to be intrackable (no closed form solution): Originally considered by Allied scientists in World War II, it proved so intractable that, according to Peter Whittle, the problem was proposed to be dropped over Germany so that German scientists could also waste their time on it.\n",
    "- The version of the problem now commonly analyzed was formulated by Herbert Robbins in 1952.\n",
    "\n",
    "**Question**: Is it realy so difficult? Consider 2 actions, return as conditional Bernouli distribution, and 2 steps. If you are done, try 3 steps."
   ]
  },
  {
   "cell_type": "code",
   "execution_count": 53,
   "metadata": {},
   "outputs": [
    {
     "name": "stdout",
     "output_type": "stream",
     "text": [
      "Time\tObservation\tAction\tReward\n",
      "===== EPISODE 0=====\n",
      "0\t0\t2\t-1.3196127770573067\n",
      "Episode finished after 1 timesteps\n",
      "===== EPISODE 1=====\n",
      "0\t0\t7\t0.356604172462772\n",
      "Episode finished after 1 timesteps\n",
      "===== EPISODE 2=====\n",
      "0\t0\t3\t-0.28092105872502016\n",
      "Episode finished after 1 timesteps\n",
      "===== EPISODE 3=====\n",
      "0\t0\t4\t0.7854634087623776\n",
      "Episode finished after 1 timesteps\n",
      "===== EPISODE 4=====\n",
      "0\t0\t5\t-1.6648146560303358\n",
      "Episode finished after 1 timesteps\n",
      "===== EPISODE 5=====\n",
      "0\t0\t1\t0.09853934930451955\n",
      "Episode finished after 1 timesteps\n",
      "===== EPISODE 6=====\n",
      "0\t0\t1\t0.406941295683947\n",
      "Episode finished after 1 timesteps\n",
      "===== EPISODE 7=====\n",
      "0\t0\t2\t0.4992025964510173\n",
      "Episode finished after 1 timesteps\n",
      "===== EPISODE 8=====\n",
      "0\t0\t2\t-0.5537241480348\n",
      "Episode finished after 1 timesteps\n",
      "===== EPISODE 9=====\n",
      "0\t0\t6\t0.6481367807342436\n",
      "Episode finished after 1 timesteps\n"
     ]
    }
   ],
   "source": [
    "print('\\t'.join(['Time','Observation','Action','Reward']))\n",
    "for i_episode in range(10):\n",
    "    print(\"===== EPISODE {}=====\".format(i_episode))\n",
    "    observation = env.reset()\n",
    "    for t in range(100):\n",
    "        action = env.action_space.sample()\n",
    "        observation, reward, done, info = env.step(action)\n",
    "        print('\\t'.join(list(map(str,[t,observation,action,reward]))))\n",
    "        if done:\n",
    "            print(\"Episode finished after {} timesteps\".format(t+1))\n",
    "            break"
   ]
  },
  {
   "cell_type": "code",
   "execution_count": 26,
   "metadata": {},
   "outputs": [
    {
     "name": "stdout",
     "output_type": "stream",
     "text": [
      "Time\tObservation\tAction\tReward\n",
      "0\t0\t6\t-0.7165042058180701\n",
      "1\t0\t8\t-2.066803878107154\n",
      "2\t0\t8\t-0.07881643207408229\n",
      "3\t0\t3\t1.2732454989311432\n",
      "4\t0\t2\t1.4211883772557454\n",
      "5\t0\t3\t-0.460708381283341\n",
      "6\t0\t6\t-0.3424880763105885\n",
      "7\t0\t3\t0.2049484156631845\n",
      "8\t0\t6\t-0.5411487665905894\n",
      "9\t0\t5\t0.5746008362577331\n",
      "10\t0\t7\t-0.05040597017960702\n",
      "11\t0\t0\t0.4131778247390103\n",
      "12\t0\t8\t-1.6460543285731717\n",
      "13\t0\t4\t1.624986752134256\n",
      "14\t0\t6\t-0.22420429176861437\n",
      "15\t0\t5\t-2.3140858828354958\n",
      "16\t0\t8\t-1.278120385472412\n",
      "17\t0\t2\t1.395834500156515\n",
      "18\t0\t3\t1.7729070794443529\n",
      "19\t0\t9\t0.905136652942214\n",
      "20\t0\t7\t0.7270668142607222\n",
      "21\t0\t5\t0.23892623678379965\n",
      "22\t0\t3\t0.10808434710548387\n",
      "23\t0\t4\t1.3077330237922917\n",
      "24\t0\t5\t-1.987266206370285\n",
      "25\t0\t3\t1.1420822536131978\n",
      "26\t0\t3\t0.6935139057295434\n",
      "27\t0\t7\t0.6880964487042862\n",
      "28\t0\t9\t-0.4488541130865984\n",
      "29\t0\t9\t-2.2198730568110845\n"
     ]
    }
   ],
   "source": [
    "print('\\t'.join(['Time','Observation','Action','Reward']))\n",
    "for i_episode in range(30):\n",
    "    observation = env.reset()\n",
    "    action = env.action_space.sample()\n",
    "    observation, reward, done, info = env.step(action)\n",
    "    print('\\t'.join(list(map(str,[i_episode,observation,action,reward]))))"
   ]
  },
  {
   "cell_type": "code",
   "execution_count": 56,
   "metadata": {},
   "outputs": [
    {
     "data": {
      "text/html": [
       "<div>\n",
       "<style>\n",
       "    .dataframe thead tr:only-child th {\n",
       "        text-align: right;\n",
       "    }\n",
       "\n",
       "    .dataframe thead th {\n",
       "        text-align: left;\n",
       "    }\n",
       "\n",
       "    .dataframe tbody tr th {\n",
       "        vertical-align: top;\n",
       "    }\n",
       "</style>\n",
       "<table border=\"1\" class=\"dataframe\">\n",
       "  <thead>\n",
       "    <tr style=\"text-align: right;\">\n",
       "      <th></th>\n",
       "      <th>Time</th>\n",
       "      <th>Observation</th>\n",
       "      <th>Action</th>\n",
       "      <th>Reward</th>\n",
       "    </tr>\n",
       "  </thead>\n",
       "  <tbody>\n",
       "    <tr>\n",
       "      <th>0</th>\n",
       "      <td>0</td>\n",
       "      <td>0</td>\n",
       "      <td>4</td>\n",
       "      <td>-0.009784</td>\n",
       "    </tr>\n",
       "    <tr>\n",
       "      <th>1</th>\n",
       "      <td>1</td>\n",
       "      <td>0</td>\n",
       "      <td>6</td>\n",
       "      <td>-1.672518</td>\n",
       "    </tr>\n",
       "    <tr>\n",
       "      <th>2</th>\n",
       "      <td>2</td>\n",
       "      <td>0</td>\n",
       "      <td>0</td>\n",
       "      <td>-0.198371</td>\n",
       "    </tr>\n",
       "    <tr>\n",
       "      <th>3</th>\n",
       "      <td>3</td>\n",
       "      <td>0</td>\n",
       "      <td>0</td>\n",
       "      <td>0.510849</td>\n",
       "    </tr>\n",
       "    <tr>\n",
       "      <th>4</th>\n",
       "      <td>4</td>\n",
       "      <td>0</td>\n",
       "      <td>2</td>\n",
       "      <td>-1.630677</td>\n",
       "    </tr>\n",
       "  </tbody>\n",
       "</table>\n",
       "</div>"
      ],
      "text/plain": [
       "   Time  Observation  Action    Reward\n",
       "0     0            0       4 -0.009784\n",
       "1     1            0       6 -1.672518\n",
       "2     2            0       0 -0.198371\n",
       "3     3            0       0  0.510849\n",
       "4     4            0       2 -1.630677"
      ]
     },
     "execution_count": 56,
     "metadata": {},
     "output_type": "execute_result"
    }
   ],
   "source": [
    "import pandas as pd\n",
    "columns = ['Time','Observation','Action','Reward']\n",
    "results = []\n",
    "observation = env.reset()\n",
    "for i_episode in range(1000):\n",
    "    action = env.action_space.sample()\n",
    "    observation, reward, done, info = env.step(action)\n",
    "    results.append([i_episode,observation,action,reward])\n",
    "\n",
    "df = pd.DataFrame(results,columns=columns)\n",
    "df.head()"
   ]
  },
  {
   "cell_type": "code",
   "execution_count": 154,
   "metadata": {},
   "outputs": [
    {
     "data": {
      "text/plain": [
       "<matplotlib.axes._subplots.AxesSubplot at 0x2c6987fb6a0>"
      ]
     },
     "execution_count": 154,
     "metadata": {},
     "output_type": "execute_result"
    },
    {
     "data": {
      "image/png": "[encoded data removed]",
      "text/plain": [
       "<matplotlib.figure.Figure at 0x2c6927c2a58>"
      ]
     },
     "metadata": {},
     "output_type": "display_data"
    }
   ],
   "source": [
    "% matplotlib inline\n",
    "import seaborn as sns\n",
    "sns.set(style=\"whitegrid\")\n",
    "sns.violinplot(y='Reward',x='Action',data=df)"
   ]
  },
  {
   "cell_type": "markdown",
   "metadata": {},
   "source": [
    "After 1000 trials, we have a good understanding which arm is good and which is bad.\n",
    "\n",
    "Since we are interested in s\n",
    "$q(a) = \\mathbb{E}(R|A=a)$, we can approximate from the data set as follows:"
   ]
  },
  {
   "cell_type": "code",
   "execution_count": 41,
   "metadata": {},
   "outputs": [
    {
     "data": {
      "text/plain": [
       "Action\n",
       "0   -0.938491\n",
       "1   -0.803952\n",
       "2    1.456954\n",
       "3    0.622050\n",
       "4    0.994723\n",
       "5   -0.938945\n",
       "6   -0.144664\n",
       "7    0.301446\n",
       "8   -0.434462\n",
       "9   -1.097587\n",
       "Name: Reward, dtype: float64"
      ]
     },
     "execution_count": 41,
     "metadata": {},
     "output_type": "execute_result"
    }
   ],
   "source": [
    "Q = df.groupby('Action').mean()['Reward']\n",
    "Q"
   ]
  },
  {
   "cell_type": "markdown",
   "metadata": {},
   "source": [
    "With our completely random selection, the total reward is after 1000 of iterations:"
   ]
  },
  {
   "cell_type": "code",
   "execution_count": 58,
   "metadata": {},
   "outputs": [
    {
     "data": {
      "text/plain": [
       "-525.77066278342159"
      ]
     },
     "execution_count": 58,
     "metadata": {},
     "output_type": "execute_result"
    }
   ],
   "source": [
    "sum(df['Reward'])"
   ]
  },
  {
   "cell_type": "markdown",
   "metadata": {},
   "source": [
    "**Question:** What are the possibilities to do it smarter than randomly?"
   ]
  },
  {
   "cell_type": "code",
   "execution_count": 128,
   "metadata": {
    "collapsed": true
   },
   "outputs": [],
   "source": [
    "import numpy as np\n",
    "class RandomPolicy:\n",
    "    def decide(self,observation):\n",
    "        return np.random.randint(0,9)\n",
    "    def update(self,observation,action,reward):\n",
    "        pass"
   ]
  },
  {
   "cell_type": "code",
   "execution_count": 133,
   "metadata": {},
   "outputs": [
    {
     "data": {
      "text/plain": [
       "6"
      ]
     },
     "execution_count": 133,
     "metadata": {},
     "output_type": "execute_result"
    }
   ],
   "source": [
    "policy = RandomPolicy()\n",
    "policy.decide(1)"
   ]
  },
  {
   "cell_type": "code",
   "execution_count": 150,
   "metadata": {
    "collapsed": true
   },
   "outputs": [],
   "source": [
    "def run_experiment(policy,n_runs=2000): \n",
    "    runs = []\n",
    "    for n in range(n_runs):\n",
    "        run = []\n",
    "        observation = env.reset()\n",
    "        for i_episode in range(1000):\n",
    "            action = env.action_space.sample()\n",
    "            observation, reward, done, info = env.step(action)\n",
    "            run.append(reward)\n",
    "        runs.append(run)\n",
    "    return np.array(runs).mean(axis=0)"
   ]
  },
  {
   "cell_type": "code",
   "execution_count": 152,
   "metadata": {
    "collapsed": true
   },
   "outputs": [],
   "source": [
    "average_run = run_experiment(policy,10)"
   ]
  },
  {
   "cell_type": "code",
   "execution_count": 153,
   "metadata": {},
   "outputs": [
    {
     "data": {
      "text/plain": [
       "[<matplotlib.lines.Line2D at 0x2c69a47a7b8>]"
      ]
     },
     "execution_count": 153,
     "metadata": {},
     "output_type": "execute_result"
    },
    {
     "data": {
      "image/png": "[encoded data removed]",
      "text/plain": [
       "<matplotlib.figure.Figure at 0x2c69a474ba8>"
      ]
     },
     "metadata": {},
     "output_type": "display_data"
    }
   ],
   "source": [
    "import matplotlib.pyplot as plt\n",
    "plt.plot(average_run)"
   ]
  },
  {
   "cell_type": "markdown",
   "metadata": {},
   "source": [
    "# Next Lecture\n",
    "\n",
    "- We will try to cope with bandids in more intelligent ways.\n",
    "\n",
    "# Home Work\n",
    "\n",
    "## Get ready for hands-on\n",
    "\n",
    "### Obligatory [1 point]\n",
    "- Install Anaconda\n",
    "- Install OpenGym\n",
    "- Install Gym-Bandits\n",
    "- Download this notebook & execute the code\n",
    "\n",
    "### Voluntary [1 point]\n",
    "- Select one application of ML mentioned above & find at least 1 reference (e.g. scholar.google.com ) and 1 popularizing article (e.g. a publicly available Jupyter notebook)"
   ]
  },
  {
   "cell_type": "code",
   "execution_count": 138,
   "metadata": {
    "collapsed": true
   },
   "outputs": [],
   "source": []
  },
  {
   "cell_type": "code",
   "execution_count": null,
   "metadata": {
    "collapsed": true
   },
   "outputs": [],
   "source": []
  }
 ],
 "metadata": {
  "kernelspec": {
   "display_name": "Python 3",
   "language": "python",
   "name": "python3"
  },
  "language_info": {
   "codemirror_mode": {
    "name": "ipython",
    "version": 3
   },
   "file_extension": ".py",
   "mimetype": "text/x-python",
   "name": "python",
   "nbconvert_exporter": "python",
   "pygments_lexer": "ipython3",
   "version": "3.6.5"
  }
 },
 "nbformat": 4,
 "nbformat_minor": 2
}
