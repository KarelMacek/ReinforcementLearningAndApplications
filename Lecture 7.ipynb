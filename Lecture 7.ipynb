{
 "cells": [
  {
   "cell_type": "markdown",
   "metadata": {},
   "source": [
    "# $n$-step Bootstrapping\n",
    "\n",
    "MC - waiting till the end of episode - may be very long\n",
    "<img src=\"http://1.bp.blogspot.com/-o3s_wTazl0o/T1DShNOXZ6I/AAAAAAAABCE/O3Yut_-2UIM/s1600/waiting.jpg\" width=\"50%\"/>\n",
    "\n",
    "TD(0) - updating after each step - may not propagate significant state change: changing the mindset after each piece of experience.\n",
    "<img src=\"https://s.abcnews.com/images/Health/gty_grocery_store_tk_130506_wmain.jpg\" width=\"50%\" />\n",
    "\n",
    "Practically: the optimum is often somewhere in between.\n",
    "\n",
    "What is the \"in between\"?"
   ]
  },
  {
   "cell_type": "markdown",
   "metadata": {},
   "source": [
    "## $n$-step TD Prediction\n",
    "\n",
    "Update after:\n",
    "* More than *one* step.\n",
    "* Less than *all* steps (=whole episode).\n",
    "\n",
    "All steps:\n",
    "$$\n",
    "G_t = R_{t+1} + \\gamma R_{t+2} + \\gamma^2 R_{t+3}+\\dots + \\gamma^{T-t-1} R_T\n",
    "$$\n",
    "\n",
    "One step:\n",
    "$$\n",
    "G_{t:t+1} = R_{t+1} + \\gamma V_t(S_{t+1}) \n",
    "$$"
   ]
  },
  {
   "cell_type": "markdown",
   "metadata": {},
   "source": [
    "Let's try *two* steps:\n",
    "\n",
    "$$\n",
    "G_{t:t+1} = R_{t+1} +\\gamma R_{t+2} + \\gamma^2 V_{t+1}(S_{t+2}) \n",
    "$$"
   ]
  },
  {
   "cell_type": "markdown",
   "metadata": {},
   "source": [
    "Generally:\n",
    "$$\n",
    "G_{t:t+n} = R_{t+1} +\\gamma R_{t+2} + \\dots \\gamma^n V_{t+n-1}(S_{t+n}) \n",
    "$$"
   ]
  },
  {
   "cell_type": "markdown",
   "metadata": {},
   "source": [
    "We have to take care of two things:\n",
    "\n",
    "1. The end of the episode - what if $t+n\\geq T$?\n",
    "\n",
    "Answer: The missing terms are taken as zero."
   ]
  },
  {
   "cell_type": "markdown",
   "metadata": {},
   "source": [
    "<ol start=\"2\">\n",
    "    <li>\n",
    "        We don't know $G_{t:t+1}$ at time $t$ - when to update it? \n",
    "    </li>\n",
    "</ol>\n",
    "Answer: we update at time $t+1$.\n",
    "\n",
    "Let's go to the frozen lake."
   ]
  },
  {
   "cell_type": "code",
   "execution_count": 44,
   "metadata": {},
   "outputs": [],
   "source": [
    "import gym\n",
    "import numpy as np\n",
    "\n",
    "alpha = 0.05\n",
    "gamma = 0.9\n",
    "V = np.zeros(64)\n",
    "\n",
    "env = gym.make('FrozenLake8x8-v0')\n",
    "n = 5\n",
    "for i_episode in range(20000):\n",
    "    observation = env.reset()\n",
    "    done = False\n",
    "    t = 0\n",
    "    T = np.infty\n",
    "    S = {}\n",
    "    R = {}\n",
    "    while not done:\n",
    "        # if episode is running\n",
    "        if t<T:\n",
    "            action = env.action_space.sample()\n",
    "            S[t] = observation\n",
    "            observation, reward, done, info = env.step(action)\n",
    "            R[t] = reward\n",
    "            if done:\n",
    "                T = t + 1\n",
    "        tau = t - n #+ 1\n",
    "        \n",
    "        # if we can update\n",
    "        if tau >= 0:\n",
    "            G = np.sum([gamma**(i-tau-1) +R[i] for i in range(tau+1,int(np.min([tau+n,T])))])\n",
    "            if tau + n < T:\n",
    "                G = G + gamma**n * V[S[tau+n]]\n",
    "            V[S[tau]] += alpha*(G-V[S[tau]]) \n",
    "        t += 1\n",
    "        done =  tau == T -1\n",
    "            \n",
    "        "
   ]
  },
  {
   "cell_type": "code",
   "execution_count": 45,
   "metadata": {},
   "outputs": [
    {
     "data": {
      "text/plain": [
       "<matplotlib.image.AxesImage at 0x238a72a74a8>"
      ]
     },
     "execution_count": 45,
     "metadata": {},
     "output_type": "execute_result"
    },
    {
     "data": {
      "image/png": "[encoded data removed]",
      "text/plain": [
       "<Figure size 432x288 with 1 Axes>"
      ]
     },
     "metadata": {},
     "output_type": "display_data"
    }
   ],
   "source": [
    "% matplotlib inline\n",
    "import matplotlib.pyplot as plt\n",
    "\n",
    "plt.imshow(V.reshape(8,8))"
   ]
  },
  {
   "cell_type": "code",
   "execution_count": 46,
   "metadata": {},
   "outputs": [
    {
     "data": {
      "text/html": [
       "<div>\n",
       "<style scoped>\n",
       "    .dataframe tbody tr th:only-of-type {\n",
       "        vertical-align: middle;\n",
       "    }\n",
       "\n",
       "    .dataframe tbody tr th {\n",
       "        vertical-align: top;\n",
       "    }\n",
       "\n",
       "    .dataframe thead th {\n",
       "        text-align: right;\n",
       "    }\n",
       "</style>\n",
       "<table border=\"1\" class=\"dataframe\">\n",
       "  <thead>\n",
       "    <tr style=\"text-align: right;\">\n",
       "      <th></th>\n",
       "      <th>0</th>\n",
       "      <th>1</th>\n",
       "      <th>2</th>\n",
       "      <th>3</th>\n",
       "      <th>4</th>\n",
       "      <th>5</th>\n",
       "      <th>6</th>\n",
       "      <th>7</th>\n",
       "    </tr>\n",
       "  </thead>\n",
       "  <tbody>\n",
       "    <tr>\n",
       "      <th>0</th>\n",
       "      <td>7.099567</td>\n",
       "      <td>7.108402</td>\n",
       "      <td>7.028883</td>\n",
       "      <td>6.500263</td>\n",
       "      <td>6.723588</td>\n",
       "      <td>6.547027</td>\n",
       "      <td>6.883820</td>\n",
       "      <td>6.727356</td>\n",
       "    </tr>\n",
       "    <tr>\n",
       "      <th>1</th>\n",
       "      <td>6.861582</td>\n",
       "      <td>6.540070</td>\n",
       "      <td>6.232767</td>\n",
       "      <td>5.414454</td>\n",
       "      <td>5.365273</td>\n",
       "      <td>5.641555</td>\n",
       "      <td>5.982388</td>\n",
       "      <td>6.417299</td>\n",
       "    </tr>\n",
       "    <tr>\n",
       "      <th>2</th>\n",
       "      <td>6.651836</td>\n",
       "      <td>5.825804</td>\n",
       "      <td>4.648283</td>\n",
       "      <td>0.000000</td>\n",
       "      <td>1.992539</td>\n",
       "      <td>4.189691</td>\n",
       "      <td>5.092994</td>\n",
       "      <td>6.253137</td>\n",
       "    </tr>\n",
       "    <tr>\n",
       "      <th>3</th>\n",
       "      <td>6.386901</td>\n",
       "      <td>5.233298</td>\n",
       "      <td>4.103259</td>\n",
       "      <td>1.674866</td>\n",
       "      <td>1.791372</td>\n",
       "      <td>0.000000</td>\n",
       "      <td>3.966079</td>\n",
       "      <td>5.285951</td>\n",
       "    </tr>\n",
       "    <tr>\n",
       "      <th>4</th>\n",
       "      <td>4.766004</td>\n",
       "      <td>3.268920</td>\n",
       "      <td>1.993131</td>\n",
       "      <td>0.000000</td>\n",
       "      <td>1.815021</td>\n",
       "      <td>2.292301</td>\n",
       "      <td>2.996863</td>\n",
       "      <td>3.916174</td>\n",
       "    </tr>\n",
       "    <tr>\n",
       "      <th>5</th>\n",
       "      <td>3.031698</td>\n",
       "      <td>0.000000</td>\n",
       "      <td>0.000000</td>\n",
       "      <td>1.016342</td>\n",
       "      <td>1.917488</td>\n",
       "      <td>2.032874</td>\n",
       "      <td>0.000000</td>\n",
       "      <td>2.699246</td>\n",
       "    </tr>\n",
       "    <tr>\n",
       "      <th>6</th>\n",
       "      <td>1.979926</td>\n",
       "      <td>0.000000</td>\n",
       "      <td>0.901247</td>\n",
       "      <td>0.460137</td>\n",
       "      <td>0.000000</td>\n",
       "      <td>1.455824</td>\n",
       "      <td>0.000000</td>\n",
       "      <td>1.605167</td>\n",
       "    </tr>\n",
       "    <tr>\n",
       "      <th>7</th>\n",
       "      <td>3.578940</td>\n",
       "      <td>2.480388</td>\n",
       "      <td>1.797067</td>\n",
       "      <td>0.000000</td>\n",
       "      <td>0.047500</td>\n",
       "      <td>1.044058</td>\n",
       "      <td>0.163353</td>\n",
       "      <td>0.000000</td>\n",
       "    </tr>\n",
       "  </tbody>\n",
       "</table>\n",
       "</div>"
      ],
      "text/plain": [
       "          0         1         2         3         4         5         6  \\\n",
       "0  7.099567  7.108402  7.028883  6.500263  6.723588  6.547027  6.883820   \n",
       "1  6.861582  6.540070  6.232767  5.414454  5.365273  5.641555  5.982388   \n",
       "2  6.651836  5.825804  4.648283  0.000000  1.992539  4.189691  5.092994   \n",
       "3  6.386901  5.233298  4.103259  1.674866  1.791372  0.000000  3.966079   \n",
       "4  4.766004  3.268920  1.993131  0.000000  1.815021  2.292301  2.996863   \n",
       "5  3.031698  0.000000  0.000000  1.016342  1.917488  2.032874  0.000000   \n",
       "6  1.979926  0.000000  0.901247  0.460137  0.000000  1.455824  0.000000   \n",
       "7  3.578940  2.480388  1.797067  0.000000  0.047500  1.044058  0.163353   \n",
       "\n",
       "          7  \n",
       "0  6.727356  \n",
       "1  6.417299  \n",
       "2  6.253137  \n",
       "3  5.285951  \n",
       "4  3.916174  \n",
       "5  2.699246  \n",
       "6  1.605167  \n",
       "7  0.000000  "
      ]
     },
     "execution_count": 46,
     "metadata": {},
     "output_type": "execute_result"
    }
   ],
   "source": [
    "import pandas as pd\n",
    "pd.DataFrame(V.reshape(8,8))"
   ]
  },
  {
   "cell_type": "markdown",
   "metadata": {},
   "source": [
    "\n",
    "## $n$-step Sarsa\n",
    "\n",
    "The we combine Sarsa with $n$-step approach like this:\n",
    "\n",
    "$$\n",
    "G_{t:t+n} = R_{t+1} + \\gamma R_{t+2} +\\dots + \\gamma^{n-1} R_{t+n} + \\gamma^{n}Q_{t+n-1}(S_{t+n},A_{t+n})\n",
    "$$"
   ]
  },
  {
   "cell_type": "code",
   "execution_count": 47,
   "metadata": {},
   "outputs": [],
   "source": [
    "import gym\n",
    "import numpy as np\n",
    "\n",
    "alpha = 0.05\n",
    "gamma = 0.9\n",
    "Q = np.zeros((64,4))\n",
    "\n",
    "env = gym.make('FrozenLake8x8-v0')\n",
    "n = 5\n",
    "epsilon = 0.1\n",
    "for i_episode in range(20000):\n",
    "    observation = env.reset()\n",
    "    done = False\n",
    "    t = 0\n",
    "    T = np.infty\n",
    "    S = {}\n",
    "    R = {}\n",
    "    A = {}\n",
    "    while not done:\n",
    "        # if episode is running\n",
    "        if t<T:\n",
    "            if np.random.random()<epsilon:\n",
    "                action = env.action_space.sample()\n",
    "            else:\n",
    "                action = Q[observation,:].argmax()\n",
    "            S[t] = observation\n",
    "            A[t] = action\n",
    "            observation, reward, done, info = env.step(action)\n",
    "            R[t] = reward\n",
    "            if done:\n",
    "                T = t + 1\n",
    "        tau = t - n #+ 1\n",
    "        \n",
    "        # if we can update\n",
    "        if tau >= 0:\n",
    "            G = np.sum([gamma**(i-tau-1) +R[i] for i in range(tau+1,int(np.min([tau+n,T])))])\n",
    "            if tau + n < T:\n",
    "                G = G + gamma**n * V[S[tau+n]]\n",
    "            Q[S[tau],A[tau]] += alpha*(G-Q[S[tau],A[tau]]) \n",
    "        t += 1\n",
    "        done =  tau == T -1\n",
    "            \n",
    "        "
   ]
  },
  {
   "cell_type": "code",
   "execution_count": 62,
   "metadata": {},
   "outputs": [
    {
     "data": {
      "image/png": "[encoded data removed]",
      "text/plain": [
       "<Figure size 576x576 with 4 Axes>"
      ]
     },
     "metadata": {},
     "output_type": "display_data"
    }
   ],
   "source": [
    "fig,axes = plt.subplots(2,2,figsize=(8,8))\n",
    "for i in range(4):\n",
    "    axes[int(np.floor(i/2)),i%2].imshow(Q[:,i].reshape((8,8)))"
   ]
  },
  {
   "cell_type": "markdown",
   "metadata": {},
   "source": [
    "## $n$-step Off-policy Learning by Importance Sampling\n",
    "\n",
    "Same principle as in case of MC. We consider the steps when it has been taken:\n",
    "\n",
    "$$\n",
    "V_{t+n}(S_t) = V_{t+n-1}(S_t) + \\alpha \\rho_{t:t+n-1} [G_{t:t+n} - V_{t+n-1}(S_t)]\n",
    "$$\n",
    "\n",
    "with the *importance sampling* ratio:\n",
    "\n",
    "$$\n",
    "\\rho_{t:h} = \\prod_{k=t}^{\\min(h,T-1)}\\frac{\\pi(A_k|S_k)}{b(A_k|S_k)}\n",
    "$$\n",
    "\n",
    "Question: \n",
    "\n",
    "* What if $\\pi(A_k|S_k)=0$ for an arbitrary $k$?\n",
    "\n",
    "Similarly with Sarsa:\n",
    "$$\n",
    "Q_{t+n}(S_t,A_t) = Q_{t+n-1}(S_t,A_t) + \\alpha \\rho_{t+1:t+n-1} [G_{t:t+n} - V_{t+n-1}(S_t,A_t)]\n",
    "$$\n",
    "\n",
    "Question:\n",
    "\n",
    "* Why do we use $\\rho_{t+1:t+n-1}$ instead of $\\rho_{t:t+n-1}$?\n",
    "* What $\\rho$ would be used for the expected Sarsa?\n"
   ]
  },
  {
   "cell_type": "code",
   "execution_count": null,
   "metadata": {},
   "outputs": [],
   "source": []
  },
  {
   "cell_type": "markdown",
   "metadata": {},
   "source": [
    "## Off-policy Learning Without Importance Sampling: The $n$-step Tree Backup Algorithm"
   ]
  },
  {
   "cell_type": "markdown",
   "metadata": {},
   "source": [
    "How this can work in case of TD(0)?\n",
    "\n",
    "* Expected Sarsa\n",
    "* Q-learning\n",
    "\n",
    "Why?\n",
    "\n",
    "* Because no importance sampling needed (boosting only).\n",
    "\n",
    "Trick here: **Backup Tree**:\n",
    "\n",
    "$$\n",
    "S_t - \\mathcal{A}(S_t) - S_{t+1}- \\mathcal{A}(S_{t+1}) - \\dots - S_{t+n}- \\mathcal{A}(S_{t+n})\n",
    "$$\n",
    "\n",
    "Approach:\n",
    "\n",
    "* Weight of a leaf corresponds to probability of the corresponding sequence of actions going there. For an $A\\in \\mathcal{A}(S_k)$, it is $\\product_{i=t}^k\\pi(A_k|S_k)$.\n",
    "* The rest is bootstrapped.\n"
   ]
  },
  {
   "cell_type": "markdown",
   "metadata": {},
   "source": [
    "For a single step, it is just expected Sarsa:\n",
    "$$\n",
    "G_{t:t+1} = R_{t+1} + \\gamma \\sum_a \\pi(a|S_{t+1}) Q_t(S_{t+1},a)\n",
    "$$\n",
    "\n",
    "Let's introduce $\\delta'_t$:\n",
    "$$\n",
    " G_{t:t+1} = \\delta'_t + Q_{t-1}(S_t,A_t) \n",
    "$$\n",
    "\n",
    "or (in the other words)\n",
    "$$\n",
    "\\delta'_t = R_{t+1} + \\gamma \\sum_a \\pi(a|S_{t+1}) Q_t(S_{t+1},a) - Q_{t-1}(S_t,A_t) \n",
    "$$\n",
    "\n",
    "The calculation is recurrent like this:\n",
    "$$\n",
    "\\begin{align}\n",
    "G_{t:t+n} & = & R_{t+1}+\\gamma \\sum_{a\\neq A_{t+1}} \\pi(a|S_{t+1})Q_t(S_{t+1},a) + \\gamma\\pi(A_{t+1}|S_{t+1})G_{t+1:t+n} \\\\\n",
    " & = & \\delta'_t + Q_{t-1}(S_t,A_t) - \\gamma \\pi(A_{t+1}|S_{t+1})Q_t(S_{t+1},A_{t+1}) + \\gamma\\pi(A_{t+1}|S_{t+1})G_{t+1:t+n} \\\\\n",
    " & = & Q_{t-1}(S_t,A_t) + \\delta'_t + \\gamma \\pi(A_{t+1}|S_{t+1})\\left( G_{t+1:t+n} - Q_t(S_{t+1},A_{t+1}) \\right) \\\\\n",
    " & = & Q_{t-1}(S_t,A_t) + \\delta'_t + \\gamma \\pi(A_{t+1}|S_{t+1}) \\delta'_{t+1} + \\gamma^2 \\pi(A_{t+}|S_{t+1})\\pi(A_{t+2}|S_{t+2}) \\delta'_{t+2} + \\dots \\\\\n",
    " & = & Q_{t-1}(S_t,A_t) + \\sum_{k=t}^{\\min(t+n-1,T-1)} \\delta'_k \\prod_{i=t+1}^{k}\\gamma \\pi(A_i|S_i)\n",
    "\\end{align}\n",
    "$$\n",
    "\n"
   ]
  },
  {
   "cell_type": "code",
   "execution_count": null,
   "metadata": {},
   "outputs": [],
   "source": []
  },
  {
   "cell_type": "markdown",
   "metadata": {},
   "source": [
    "## Homework\n",
    "\n",
    "- Obligatory: Implement the Backup Tree Algorithm and test it on the Frozen Lake or another environment\n",
    "\n",
    "- Optional: "
   ]
  },
  {
   "cell_type": "code",
   "execution_count": null,
   "metadata": {},
   "outputs": [],
   "source": []
  }
 ],
 "metadata": {
  "kernelspec": {
   "display_name": "Python 3",
   "language": "python",
   "name": "python3"
  },
  "language_info": {
   "codemirror_mode": {
    "name": "ipython",
    "version": 3
   },
   "file_extension": ".py",
   "mimetype": "text/x-python",
   "name": "python",
   "nbconvert_exporter": "python",
   "pygments_lexer": "ipython3",
   "version": "3.6.5"
  }
 },
 "nbformat": 4,
 "nbformat_minor": 2
}
