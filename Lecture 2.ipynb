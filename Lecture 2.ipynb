{
 "cells": [
  {
   "cell_type": "markdown",
   "metadata": {},
   "source": [
    "# Multi-Armed Bandits"
   ]
  },
  {
   "cell_type": "markdown",
   "metadata": {
    "collapsed": true
   },
   "source": [
    "<img src=\"https://upload.wikimedia.org/wikipedia/commons/8/82/Las_Vegas_slot_machines.jpg\" />\n",
    "\n",
    "Source: https://upload.wikimedia.org/wikipedia/commons/8/82/Las_Vegas_slot_machines.jpg"
   ]
  },
  {
   "cell_type": "markdown",
   "metadata": {},
   "source": [
    "We have"
   ]
  },
  {
   "cell_type": "code",
   "execution_count": 1,
   "metadata": {},
   "outputs": [],
   "source": [
    "import gym"
   ]
  },
  {
   "cell_type": "code",
   "execution_count": 2,
   "metadata": {},
   "outputs": [],
   "source": [
    "import gym_bandits"
   ]
  },
  {
   "cell_type": "code",
   "execution_count": 3,
   "metadata": {},
   "outputs": [
    {
     "name": "stdout",
     "output_type": "stream",
     "text": [
      "\u001b[33mWARN: Environment '<class 'gym_bandits.bandit.BanditTenArmedGaussian'>' has deprecated methods '_step' and '_reset' rather than 'step' and 'reset'. Compatibility code invoked. Set _gym_disable_underscore_compat = True to disable this behavior.\u001b[0m\n"
     ]
    }
   ],
   "source": [
    "env =  gym.make(\"BanditTenArmedGaussian-v0\") "
   ]
  },
  {
   "cell_type": "code",
   "execution_count": 4,
   "metadata": {},
   "outputs": [
    {
     "data": {
      "text/plain": [
       "Discrete(10)"
      ]
     },
     "execution_count": 4,
     "metadata": {},
     "output_type": "execute_result"
    }
   ],
   "source": [
    "env.action_space"
   ]
  },
  {
   "cell_type": "code",
   "execution_count": 5,
   "metadata": {},
   "outputs": [
    {
     "data": {
      "text/plain": [
       "Discrete(1)"
      ]
     },
     "execution_count": 5,
     "metadata": {},
     "output_type": "execute_result"
    }
   ],
   "source": [
    "env.observation_space"
   ]
  },
  {
   "cell_type": "markdown",
   "metadata": {},
   "source": [
    "In the other words, we have only one state $s\\in S$. \n",
    "\n",
    "**Question**: Can we change the state by taking actions?\n",
    "\n",
    "Some notes on multi-armed bandit problem (source: <a href=\"https://en.wikipedia.org/wiki/Multi-armed_bandit#Empirical_motivation\">wikipedia</a>):\n",
    "\n",
    "- Applications e.g. in clinical trials. Each patient is an experiment, the arms are alternative treatments\n",
    "- Well known to be intrackable (no closed form solution): Originally considered by Allied scientists in World War II, it proved so intractable that, according to Peter Whittle, the problem was proposed to be dropped over Germany so that German scientists could also waste their time on it.\n",
    "- The version of the problem now commonly analyzed was formulated by Herbert Robbins in 1952.\n",
    "\n",
    "**Question**: Is it realy so difficult? Consider 2 actions, return as conditional Bernouli distribution, and 2 steps. If you are done, try 3 steps."
   ]
  },
  {
   "cell_type": "code",
   "execution_count": 6,
   "metadata": {},
   "outputs": [
    {
     "name": "stdout",
     "output_type": "stream",
     "text": [
      "Time\tObservation\tAction\tReward\n",
      "===== EPISODE 0=====\n",
      "0\t0\t5\t-0.6232508517399515\n",
      "Episode finished after 1 timesteps\n",
      "===== EPISODE 1=====\n",
      "0\t0\t0\t-0.33456919990019385\n",
      "Episode finished after 1 timesteps\n",
      "===== EPISODE 2=====\n",
      "0\t0\t3\t-1.384817721806249\n",
      "Episode finished after 1 timesteps\n",
      "===== EPISODE 3=====\n",
      "0\t0\t3\t-0.7165657521769264\n",
      "Episode finished after 1 timesteps\n",
      "===== EPISODE 4=====\n",
      "0\t0\t7\t0.9453545729119195\n",
      "Episode finished after 1 timesteps\n",
      "===== EPISODE 5=====\n",
      "0\t0\t9\t2.126952272240965\n",
      "Episode finished after 1 timesteps\n",
      "===== EPISODE 6=====\n",
      "0\t0\t3\t-0.12968721531086413\n",
      "Episode finished after 1 timesteps\n",
      "===== EPISODE 7=====\n",
      "0\t0\t5\t1.3323833826250182\n",
      "Episode finished after 1 timesteps\n",
      "===== EPISODE 8=====\n",
      "0\t0\t2\t-0.5542941386226383\n",
      "Episode finished after 1 timesteps\n",
      "===== EPISODE 9=====\n",
      "0\t0\t4\t-0.29894102333899275\n",
      "Episode finished after 1 timesteps\n"
     ]
    }
   ],
   "source": [
    "print('\\t'.join(['Time','Observation','Action','Reward']))\n",
    "for i_episode in range(10):\n",
    "    print(\"===== EPISODE {}=====\".format(i_episode))\n",
    "    observation = env.reset()\n",
    "    for t in range(100):\n",
    "        action = env.action_space.sample()\n",
    "        observation, reward, done, info = env.step(action)\n",
    "        print('\\t'.join(list(map(str,[t,observation,action,reward]))))\n",
    "        if done:\n",
    "            print(\"Episode finished after {} timesteps\".format(t+1))\n",
    "            break"
   ]
  },
  {
   "cell_type": "code",
   "execution_count": 7,
   "metadata": {},
   "outputs": [
    {
     "name": "stdout",
     "output_type": "stream",
     "text": [
      "Time\tObservation\tAction\tReward\n",
      "0\t0\t7\t-0.11458134130714526\n",
      "1\t0\t6\t-0.05251926212761554\n",
      "2\t0\t8\t-1.8060781252992535\n",
      "3\t0\t8\t-0.3205953219507325\n",
      "4\t0\t1\t1.3801410235461602\n",
      "5\t0\t6\t-0.06412929075234658\n",
      "6\t0\t7\t2.7092887283221767\n",
      "7\t0\t7\t1.5191153655997138\n",
      "8\t0\t8\t0.8391466389694875\n",
      "9\t0\t1\t1.9511969548578136\n",
      "10\t0\t5\t-0.9713368582429469\n",
      "11\t0\t9\t2.6788279728327864\n",
      "12\t0\t8\t0.5677232692095521\n",
      "13\t0\t9\t2.18740203686155\n",
      "14\t0\t4\t-1.8097289910922982\n",
      "15\t0\t3\t-2.956058795339057\n",
      "16\t0\t0\t-2.921883806239869\n",
      "17\t0\t3\t-2.275909461674109\n",
      "18\t0\t5\t-0.014676692606119701\n",
      "19\t0\t0\t-1.9871856903723994\n",
      "20\t0\t2\t-0.6145601038209737\n",
      "21\t0\t3\t-0.39358871776566906\n",
      "22\t0\t8\t-1.2420360278680351\n",
      "23\t0\t1\t-0.23705956626294444\n",
      "24\t0\t3\t-0.16193968982538032\n",
      "25\t0\t3\t-2.3903990143452303\n",
      "26\t0\t3\t-1.0590177638122085\n",
      "27\t0\t7\t0.7087293933872154\n",
      "28\t0\t0\t-1.3117536954696276\n",
      "29\t0\t1\t1.0193951400800725\n"
     ]
    }
   ],
   "source": [
    "print('\\t'.join(['Time','Observation','Action','Reward']))\n",
    "for i_episode in range(30):\n",
    "    observation = env.reset()\n",
    "    action = env.action_space.sample()\n",
    "    observation, reward, done, info = env.step(action)\n",
    "    print('\\t'.join(list(map(str,[i_episode,observation,action,reward]))))"
   ]
  },
  {
   "cell_type": "code",
   "execution_count": 8,
   "metadata": {},
   "outputs": [
    {
     "data": {
      "text/html": [
       "<div>\n",
       "<style scoped>\n",
       "    .dataframe tbody tr th:only-of-type {\n",
       "        vertical-align: middle;\n",
       "    }\n",
       "\n",
       "    .dataframe tbody tr th {\n",
       "        vertical-align: top;\n",
       "    }\n",
       "\n",
       "    .dataframe thead th {\n",
       "        text-align: right;\n",
       "    }\n",
       "</style>\n",
       "<table border=\"1\" class=\"dataframe\">\n",
       "  <thead>\n",
       "    <tr style=\"text-align: right;\">\n",
       "      <th></th>\n",
       "      <th>Time</th>\n",
       "      <th>Observation</th>\n",
       "      <th>Action</th>\n",
       "      <th>Reward</th>\n",
       "    </tr>\n",
       "  </thead>\n",
       "  <tbody>\n",
       "    <tr>\n",
       "      <th>0</th>\n",
       "      <td>0</td>\n",
       "      <td>0</td>\n",
       "      <td>9</td>\n",
       "      <td>3.148565</td>\n",
       "    </tr>\n",
       "    <tr>\n",
       "      <th>1</th>\n",
       "      <td>1</td>\n",
       "      <td>0</td>\n",
       "      <td>9</td>\n",
       "      <td>2.935124</td>\n",
       "    </tr>\n",
       "    <tr>\n",
       "      <th>2</th>\n",
       "      <td>2</td>\n",
       "      <td>0</td>\n",
       "      <td>0</td>\n",
       "      <td>0.367045</td>\n",
       "    </tr>\n",
       "    <tr>\n",
       "      <th>3</th>\n",
       "      <td>3</td>\n",
       "      <td>0</td>\n",
       "      <td>4</td>\n",
       "      <td>1.215015</td>\n",
       "    </tr>\n",
       "    <tr>\n",
       "      <th>4</th>\n",
       "      <td>4</td>\n",
       "      <td>0</td>\n",
       "      <td>7</td>\n",
       "      <td>0.612823</td>\n",
       "    </tr>\n",
       "  </tbody>\n",
       "</table>\n",
       "</div>"
      ],
      "text/plain": [
       "   Time  Observation  Action    Reward\n",
       "0     0            0       9  3.148565\n",
       "1     1            0       9  2.935124\n",
       "2     2            0       0  0.367045\n",
       "3     3            0       4  1.215015\n",
       "4     4            0       7  0.612823"
      ]
     },
     "execution_count": 8,
     "metadata": {},
     "output_type": "execute_result"
    }
   ],
   "source": [
    "import pandas as pd\n",
    "columns = ['Time','Observation','Action','Reward']\n",
    "results = []\n",
    "observation = env.reset()\n",
    "for i_episode in range(1000):\n",
    "    action = env.action_space.sample()\n",
    "    observation, reward, done, info = env.step(action)\n",
    "    results.append([i_episode,observation,action,reward])\n",
    "\n",
    "df = pd.DataFrame(results,columns=columns)\n",
    "df.head()"
   ]
  },
  {
   "cell_type": "code",
   "execution_count": 9,
   "metadata": {},
   "outputs": [
    {
     "data": {
      "text/plain": [
       "<matplotlib.axes._subplots.AxesSubplot at 0x24e52528908>"
      ]
     },
     "execution_count": 9,
     "metadata": {},
     "output_type": "execute_result"
    },
    {
     "data": {
      "image/png": "[encoded data removed]",
      "text/plain": [
       "<Figure size 432x288 with 1 Axes>"
      ]
     },
     "metadata": {},
     "output_type": "display_data"
    }
   ],
   "source": [
    "% matplotlib inline\n",
    "import seaborn as sns\n",
    "sns.set(style=\"whitegrid\")\n",
    "sns.violinplot(y='Reward',x='Action',data=df)"
   ]
  },
  {
   "cell_type": "markdown",
   "metadata": {},
   "source": [
    "After 1000 trials, we have a good understanding which arm is good and which is bad.\n",
    "\n",
    "Since we are interested in s\n",
    "$q(a) = \\mathbb{E}(R|A=a)$, we can approximate from the data set as follows:"
   ]
  },
  {
   "cell_type": "code",
   "execution_count": 10,
   "metadata": {},
   "outputs": [
    {
     "data": {
      "text/plain": [
       "Action\n",
       "0   -0.999224\n",
       "1    1.138020\n",
       "2   -0.997804\n",
       "3   -0.795959\n",
       "4    0.146801\n",
       "5   -0.938113\n",
       "6    0.321937\n",
       "7    1.332063\n",
       "8    0.582486\n",
       "9    1.719269\n",
       "Name: Reward, dtype: float64"
      ]
     },
     "execution_count": 10,
     "metadata": {},
     "output_type": "execute_result"
    }
   ],
   "source": [
    "Q = df.groupby('Action').mean()['Reward']\n",
    "Q"
   ]
  },
  {
   "cell_type": "markdown",
   "metadata": {},
   "source": [
    "With our completely random selection, the total reward is after 1000 of iterations:"
   ]
  },
  {
   "cell_type": "code",
   "execution_count": 11,
   "metadata": {},
   "outputs": [
    {
     "data": {
      "text/plain": [
       "113.69843065427803"
      ]
     },
     "execution_count": 11,
     "metadata": {},
     "output_type": "execute_result"
    }
   ],
   "source": [
    "sum(df['Reward'])"
   ]
  },
  {
   "cell_type": "markdown",
   "metadata": {},
   "source": [
    "**Question:** What are the possibilities to do it smarter than randomly?"
   ]
  },
  {
   "cell_type": "code",
   "execution_count": 158,
   "metadata": {},
   "outputs": [],
   "source": [
    "import numpy as np\n",
    "class RandomAgent:\n",
    "    def __init__(self,n_bandits):\n",
    "        self.n_bandits=n_bandits\n",
    "    def next_action(self,observation):\n",
    "        return np.random.randint(0,self.n_bandits)\n",
    "    def update(self,observation,action,reward):\n",
    "        pass\n",
    "    def reset(self):\n",
    "        pass"
   ]
  },
  {
   "cell_type": "code",
   "execution_count": 159,
   "metadata": {},
   "outputs": [
    {
     "data": {
      "text/plain": [
       "5"
      ]
     },
     "execution_count": 159,
     "metadata": {},
     "output_type": "execute_result"
    }
   ],
   "source": [
    "random_agent = RandomAgent(10)\n",
    "policy.next_action(1)"
   ]
  },
  {
   "cell_type": "code",
   "execution_count": 160,
   "metadata": {},
   "outputs": [],
   "source": [
    "def run_experiment(agent,n_runs=2000): \n",
    "    runs = []\n",
    "    for n in range(n_runs):\n",
    "        run = []\n",
    "        observation = env.reset()\n",
    "        agent.reset()\n",
    "        for i_episode in range(1000):\n",
    "            action = agent.next_action(observation)\n",
    "            observation, reward, done, info = env.step(action)\n",
    "            agent.update(observation,action,reward)\n",
    "            run.append(reward)\n",
    "        runs.append(run)\n",
    "    a = np.array(runs)\n",
    "    print(a.shape)\n",
    "    return a.mean(axis=0)"
   ]
  },
  {
   "cell_type": "code",
   "execution_count": 161,
   "metadata": {},
   "outputs": [
    {
     "name": "stdout",
     "output_type": "stream",
     "text": [
      "(2000, 1000)\n"
     ]
    }
   ],
   "source": [
    "random_agent_results = run_experiment(random_agent)"
   ]
  },
  {
   "cell_type": "code",
   "execution_count": 162,
   "metadata": {},
   "outputs": [
    {
     "data": {
      "text/plain": [
       "[<matplotlib.lines.Line2D at 0x24e5c9b3438>]"
      ]
     },
     "execution_count": 162,
     "metadata": {},
     "output_type": "execute_result"
    },
    {
     "data": {
      "image/png": "[encoded data removed]",
      "text/plain": [
       "<Figure size 432x288 with 1 Axes>"
      ]
     },
     "metadata": {},
     "output_type": "display_data"
    }
   ],
   "source": [
    "import matplotlib.pyplot as plt\n",
    "plt.plot(random_agent_results)"
   ]
  },
  {
   "cell_type": "markdown",
   "metadata": {},
   "source": [
    "## Online Learning"
   ]
  },
  {
   "cell_type": "markdown",
   "metadata": {},
   "source": [
    "$\\bar{X}_n=\\frac{1}{n}\\sum_{i=1}^{n}X_{i}$\n",
    "\n",
    "$=\\frac{1}{n}\\left( X_n + \\sum_{i=1}^{n-1}X_{i} \\right)$\n",
    "\n",
    "$=\\frac{1}{n}\\left( X_n + (n-1)\\frac{1}{n-1}\\sum_{i=1}^{n-1}X_{i} \\right)$\n",
    "\n",
    "$=\\frac{1}{n}\\left( X_n + (n-1)\\bar{X}_{n-1} \\right)$\n",
    "\n",
    "$=\\frac{1}{n}\\left( X_n + n\\bar{X}_{n-1}-\\bar{X}_{n-1} \\right)$\n",
    "\n",
    "$=\\bar{X}_{n-1}+\\frac{1}{n}\\left( X_n -\\bar{X}_{n-1} \\right)$"
   ]
  },
  {
   "cell_type": "markdown",
   "metadata": {},
   "source": [
    "Using this formula, we will update the estimates of $Q$ for all bandits."
   ]
  },
  {
   "cell_type": "code",
   "execution_count": 167,
   "metadata": {},
   "outputs": [],
   "source": [
    "import numpy as np\n",
    "class LearningAgent():\n",
    "    def __init__(self,n_bandits):\n",
    "        self.n_bandits = n_bandits\n",
    "        self.reset()\n",
    "    def reset(self):\n",
    "        self.all_n = np.zeros(self.n_bandits)\n",
    "        self.all_Q = np.zeros(self.n_bandits)\n",
    "    def update(self,s,a,r):\n",
    "        self.all_n[a]+=1\n",
    "        self.all_Q[a]+=(r-self.all_Q[a])/self.all_n[a]"
   ]
  },
  {
   "cell_type": "code",
   "execution_count": 168,
   "metadata": {},
   "outputs": [
    {
     "data": {
      "text/plain": [
       "array([0., 0., 0., 0., 0., 3., 0., 0., 0., 0.])"
      ]
     },
     "execution_count": 168,
     "metadata": {},
     "output_type": "execute_result"
    }
   ],
   "source": [
    "agent = LearningAgent(10)\n",
    "agent.update(1,5,3)\n",
    "agent.all_Q"
   ]
  },
  {
   "cell_type": "markdown",
   "metadata": {
    "collapsed": true
   },
   "source": [
    "## Greedy Strategy"
   ]
  },
  {
   "cell_type": "code",
   "execution_count": 169,
   "metadata": {},
   "outputs": [],
   "source": [
    "class GreedyLearningAgent(LearningAgent):\n",
    "    def next_action(self,observation):\n",
    "        return self.all_Q.argmax()"
   ]
  },
  {
   "cell_type": "code",
   "execution_count": 170,
   "metadata": {},
   "outputs": [
    {
     "name": "stdout",
     "output_type": "stream",
     "text": [
      "(2000, 1000)\n"
     ]
    },
    {
     "data": {
      "text/plain": [
       "[<matplotlib.lines.Line2D at 0x24e5df79048>]"
      ]
     },
     "execution_count": 170,
     "metadata": {},
     "output_type": "execute_result"
    },
    {
     "data": {
      "image/png": "[encoded data removed]",
      "text/plain": [
       "<Figure size 432x288 with 1 Axes>"
      ]
     },
     "metadata": {},
     "output_type": "display_data"
    }
   ],
   "source": [
    "greedy_agent = GreedyLearningAgent(10)\n",
    "greedy_agent_results = run_experiment(greedy_agent)\n",
    "plt.plot(random_agent_results)\n",
    "plt.plot(greedy_agent_results)"
   ]
  },
  {
   "cell_type": "code",
   "execution_count": 171,
   "metadata": {},
   "outputs": [
    {
     "data": {
      "text/plain": [
       "array([-2.32041113,  1.11653817,  0.        ,  0.        ,  0.        ,\n",
       "        0.        ,  0.        ,  0.        ,  0.        ,  0.        ])"
      ]
     },
     "execution_count": 171,
     "metadata": {},
     "output_type": "execute_result"
    }
   ],
   "source": [
    "greedy_agent.all_Q"
   ]
  },
  {
   "cell_type": "markdown",
   "metadata": {},
   "source": [
    "**Questions**:\n",
    "\n",
    "* What is the disadvantage of the greedy approach?\n",
    "* What ideas can be adopted to cope with that?"
   ]
  },
  {
   "cell_type": "markdown",
   "metadata": {},
   "source": [
    "## Epsilon Greedy Strategy"
   ]
  },
  {
   "cell_type": "code",
   "execution_count": 177,
   "metadata": {},
   "outputs": [],
   "source": [
    "class EpsilonGreedyLearningAgent(LearningAgent):\n",
    "    def __init__(self,n_bandits,epsilon):\n",
    "        super(EpsilonGreedyLearningAgent,self).__init__(n_bandits)\n",
    "        self.epsilon = epsilon\n",
    "    def next_action(self,observation):\n",
    "        p = np.random.random()\n",
    "        if p<self.epsilon:\n",
    "            return np.random.randint(0,self.n_bandits)\n",
    "        else:\n",
    "            return self.all_Q.argmax()"
   ]
  },
  {
   "cell_type": "markdown",
   "metadata": {},
   "source": [
    "Question:\n",
    "\n",
    "* If we have two actions (arms) and the learned Q is correct. What is the probability of selecting the right action if $\\epsilon=0.5$?"
   ]
  },
  {
   "cell_type": "code",
   "execution_count": 173,
   "metadata": {},
   "outputs": [
    {
     "name": "stdout",
     "output_type": "stream",
     "text": [
      "(2000, 1000)\n",
      "(2000, 1000)\n",
      "(2000, 1000)\n",
      "(2000, 1000)\n",
      "(2000, 1000)\n",
      "(2000, 1000)\n"
     ]
    },
    {
     "data": {
      "image/png": "[encoded data removed]",
      "text/plain": [
       "<Figure size 432x288 with 1 Axes>"
      ]
     },
     "metadata": {},
     "output_type": "display_data"
    }
   ],
   "source": [
    "plt.plot(random_agent_results)\n",
    "plt.plot(greedy_agent_results)\n",
    "epsilon_results_all = []\n",
    "for epsilon in [0.01,0.02,0.05,0.1,0.2,0.5]:\n",
    "    epsilon_greedy_agent = EpsilonGreedyLearningAgent(10,epsilon)\n",
    "    results = run_experiment(epsilon_greedy_agent)\n",
    "    plt.plot(results)\n",
    "    epsilon_results_all.append(results)\n"
   ]
  },
  {
   "cell_type": "code",
   "execution_count": 174,
   "metadata": {},
   "outputs": [
    {
     "data": {
      "text/plain": [
       "array([-1.27890007,  0.75560333, -0.9708844 , -0.74056873,  0.20929081,\n",
       "       -0.9574323 ,  0.18976751,  1.57069555,  0.6405596 ,  1.7958147 ])"
      ]
     },
     "execution_count": 174,
     "metadata": {},
     "output_type": "execute_result"
    }
   ],
   "source": [
    "epsilon_greedy_agent.all_Q"
   ]
  },
  {
   "cell_type": "markdown",
   "metadata": {},
   "source": [
    "## Timed Exploration"
   ]
  },
  {
   "cell_type": "code",
   "execution_count": 175,
   "metadata": {},
   "outputs": [],
   "source": [
    "class TimedExplorationLearningAgent(LearningAgent):\n",
    "    def __init__(self,n_bandits,t_max):\n",
    "        super(TimedExplorationLearningAgent,self).__init__(n_bandits)\n",
    "        self.t_max = t_max\n",
    "        self.t = 0\n",
    "    def next_action(self,s):\n",
    "        p = np.random.random()\n",
    "        if self.t<self.t_max:\n",
    "            return np.random.randint(0,self.n_bandits)\n",
    "        else:\n",
    "            return self.all_Q.argmax()\n",
    "    def update(self,s,a,r):\n",
    "        super(TimedExplorationLearningAgent,self).update(s,a,r)\n",
    "        self.t+=1"
   ]
  },
  {
   "cell_type": "code",
   "execution_count": 176,
   "metadata": {},
   "outputs": [
    {
     "name": "stdout",
     "output_type": "stream",
     "text": [
      "(2000, 1000)\n"
     ]
    },
    {
     "data": {
      "text/plain": [
       "[<matplotlib.lines.Line2D at 0x24e5e03f780>]"
      ]
     },
     "execution_count": 176,
     "metadata": {},
     "output_type": "execute_result"
    },
    {
     "data": {
      "image/png": "[encoded data removed]",
      "text/plain": [
       "<Figure size 432x288 with 1 Axes>"
      ]
     },
     "metadata": {},
     "output_type": "display_data"
    }
   ],
   "source": [
    "timed_agent = TimedExplorationLearningAgent(10,500)\n",
    "timed_results = run_experiment(timed_agent)\n",
    "plt.plot(random_agent_results)\n",
    "plt.plot(greedy_agent_results)\n",
    "plt.plot(timed_results)"
   ]
  },
  {
   "cell_type": "markdown",
   "metadata": {},
   "source": [
    "## Upper Confidence Bound (UCB)\n",
    "Chernoff-Hoeffding bound:\n",
    "$$P(|\\bar{X}-\\mu|\\geq\\epsilon)\\leq 2 \\exp(-2\\epsilon^2N)$$\n",
    "Can be translated into an update algorithm:\n",
    "$$X_{ucb,j}=\\bar{X}_j + \\sqrt{2\\frac{\\ln{N}}{N_j}}$$\n",
    "\n",
    "## Non Stationary Bandits\n",
    "\n",
    "If statatistics of the process vary over time (mean, variance).\n",
    "\n",
    "Trick:\n",
    "$Q_n=Q_{n-1}+\\alpha(r_n+Q_{n-1})$\n",
    "\n",
    "$\\alpha$ instead of $1/N$\n",
    "\n",
    "**Questions**\n",
    "\n",
    "* Why it is good?\n",
    "* Why it is bad?\n",
    "\n",
    "## Contextual Bandits\n",
    "\n",
    "The state can change, but we cannot change the state by our actions.\n",
    "\n",
    "**Questions**:\n",
    "\n",
    "* What can be a real-world example for this?\n",
    "* How to cope with that if the number of states is finite?\n",
    "* How to cope with that if the number of states is $\\mathbb{R}^n$?"
   ]
  },
  {
   "cell_type": "markdown",
   "metadata": {},
   "source": [
    "# Homework\n",
    "* Obligatory: implement UCB agent and test it\n",
    "\n",
    "* Voluntary: find and simulate a realistic non-stationary process that can be subject to bandits.\n",
    "\n",
    "# Next Lecture: Dynamic Programming\n",
    "* How to make optimal decisions in *known* dynamic environments."
   ]
  },
  {
   "cell_type": "code",
   "execution_count": null,
   "metadata": {},
   "outputs": [],
   "source": []
  }
 ],
 "metadata": {
  "kernelspec": {
   "display_name": "Python 3",
   "language": "python",
   "name": "python3"
  },
  "language_info": {
   "codemirror_mode": {
    "name": "ipython",
    "version": 3
   },
   "file_extension": ".py",
   "mimetype": "text/x-python",
   "name": "python",
   "nbconvert_exporter": "python",
   "pygments_lexer": "ipython3",
   "version": "3.6.5"
  }
 },
 "nbformat": 4,
 "nbformat_minor": 2
}
